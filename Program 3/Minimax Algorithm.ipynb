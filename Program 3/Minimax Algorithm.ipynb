{
 "cells": [
  {
   "cell_type": "code",
   "execution_count": 1,
   "id": "c48638de",
   "metadata": {},
   "outputs": [
    {
     "name": "stdout",
     "output_type": "stream",
     "text": [
      "The optimal value is: 12\n"
     ]
    }
   ],
   "source": [
    "def minmax(depth, nodeIndex, maximizingPlayer, values):\n",
    "    # Terminal condition: return the value at the terminal node\n",
    "    if depth == 3:\n",
    "        return values[nodeIndex]\n",
    "    \n",
    "    if maximizingPlayer:\n",
    "        best = float('-inf')\n",
    "        for i in range(2):\n",
    "            val = minmax(depth + 1, nodeIndex * 2 + i, False, values)\n",
    "            best = max(best, val)\n",
    "        return best\n",
    "    else:\n",
    "        best = float('inf')\n",
    "        for i in range(2):\n",
    "            val = minmax(depth + 1, nodeIndex * 2 + i, True, values)\n",
    "            best = min(best, val)\n",
    "        return best\n",
    "\n",
    "# Example tree with depth 3 and 8 terminal nodes\n",
    "values = [3, 5, 2, 9, 12, 5, 23, 23]\n",
    "\n",
    "# Start the Minimax algorithm\n",
    "result = minmax(0, 0, True, values)\n",
    "print(\"The optimal value is:\", result)"
   ]
  },
  {
   "cell_type": "code",
   "execution_count": 1,
   "id": "8edd5d2f",
   "metadata": {},
   "outputs": [
    {
     "name": "stdout",
     "output_type": "stream",
     "text": [
      "enter:3\n"
     ]
    }
   ],
   "source": [
    "n = int(input(\"enter:\"))"
   ]
  },
  {
   "cell_type": "code",
   "execution_count": null,
   "id": "6e8b1bfe",
   "metadata": {},
   "outputs": [],
   "source": []
  }
 ],
 "metadata": {
  "kernelspec": {
   "display_name": "Python 3 (ipykernel)",
   "language": "python",
   "name": "python3"
  },
  "language_info": {
   "codemirror_mode": {
    "name": "ipython",
    "version": 3
   },
   "file_extension": ".py",
   "mimetype": "text/x-python",
   "name": "python",
   "nbconvert_exporter": "python",
   "pygments_lexer": "ipython3",
   "version": "3.9.13"
  }
 },
 "nbformat": 4,
 "nbformat_minor": 5
}
