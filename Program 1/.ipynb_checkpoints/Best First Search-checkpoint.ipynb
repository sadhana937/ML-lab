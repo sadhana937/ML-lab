{
 "cells": [
  {
   "cell_type": "markdown",
   "id": "f28fc825",
   "metadata": {},
   "source": [
    "# Best First Search\n",
    "- Time complexity = O(b^m) \n",
    "- Space complexity = O(b^m) where m is the depth of the solution, b is the branching factor\n",
    "- Incomplete, not optimal\n"
   ]
  },
  {
   "cell_type": "code",
   "execution_count": 4,
   "id": "f632cbaa",
   "metadata": {},
   "outputs": [
    {
     "name": "stdout",
     "output_type": "stream",
     "text": [
      "S  -> B  -> F  -> G\n"
     ]
    }
   ],
   "source": [
    "from queue import PriorityQueue\n",
    "\n",
    "def best_first_search(graph, start, goal, heuristic):\n",
    "    visited = set()\n",
    "    pq = PriorityQueue()\n",
    "    pq.put((heuristic[start], start))\n",
    "    \n",
    "    while not pq.empty():\n",
    "        h,node = pq.get()\n",
    "        if node == goal:\n",
    "            print(node)\n",
    "            return\n",
    "        \n",
    "        if node not in visited:\n",
    "            print(node, ' ->', end = \" \")\n",
    "            visited.add(node)\n",
    "            \n",
    "            for neighbor in graph[node]:\n",
    "                if neighbor not in visited:\n",
    "                    pq.put((heuristic[neighbor], neighbor))          \n",
    "    \n",
    "    print(\"Goal not found!\")\n",
    "\n",
    "# Example graph representation using adjacency list\n",
    "graph = {\n",
    "    'S':['A','B'],\n",
    "    'A': ['C', 'D'],\n",
    "    'B': ['E', 'F'],\n",
    "    'C': [],\n",
    "    'D': [],\n",
    "    'E': ['H'],\n",
    "    'F': ['I', 'G'],\n",
    "    'H':[],\n",
    "    'I':[],\n",
    "    'G':[],\n",
    "}\n",
    "\n",
    "start_node = 'S'\n",
    "goal_node = 'G'\n",
    "\n",
    "#Heuristic values from curr node -> goal node\n",
    "heuristic_values = {\n",
    "    'S': 13,\n",
    "    'A': 12,\n",
    "    'B': 4,\n",
    "    'C': 7,\n",
    "    'D': 3,\n",
    "    'E': 8,\n",
    "    'F': 2,\n",
    "    'H': 4,\n",
    "    'I': 9,\n",
    "    'G': 0,\n",
    "}\n",
    "\n",
    "best_first_search(graph, start_node, goal_node, heuristic_values) # S -> B -> F -> G "
   ]
  },
  {
   "cell_type": "code",
   "execution_count": null,
   "id": "7ff3eba1",
   "metadata": {},
   "outputs": [],
   "source": []
  }
 ],
 "metadata": {
  "kernelspec": {
   "display_name": "Python 3 (ipykernel)",
   "language": "python",
   "name": "python3"
  },
  "language_info": {
   "codemirror_mode": {
    "name": "ipython",
    "version": 3
   },
   "file_extension": ".py",
   "mimetype": "text/x-python",
   "name": "python",
   "nbconvert_exporter": "python",
   "pygments_lexer": "ipython3",
   "version": "3.9.13"
  }
 },
 "nbformat": 4,
 "nbformat_minor": 5
}
